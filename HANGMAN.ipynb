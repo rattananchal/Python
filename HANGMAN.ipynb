{
 "cells": [
  {
   "cell_type": "markdown",
   "metadata": {},
   "source": [
    "HANGMAN"
   ]
  },
  {
   "cell_type": "markdown",
   "metadata": {},
   "source": [
    "The Goal: Despite the name, the actual “hangman” part isn’t necessary. The main goal here is to create a sort of “guess the word” game. The user needs to be able to input letter guesses. A limit should also be set on how many guesses they can use. This means you’ll need a way to grab a word to use for guessing. (This can be grabbed from a pre-made list. No need to get too fancy.) You will also need functions to check if the user has actually inputted a single letter, to check if the inputted letter is in the hidden word (and if it is, how many times it appears), to print letters, and a counter variable to limit guesses."
   ]
  },
  {
   "cell_type": "code",
   "execution_count": 1,
   "metadata": {},
   "outputs": [],
   "source": [
    "#Final"
   ]
  },
  {
   "cell_type": "code",
   "execution_count": null,
   "metadata": {},
   "outputs": [],
   "source": [
    "import random\n",
    "\n",
    "def getword():\n",
    "    mywordlist = [\"and\",\"man\",\"pot\"]\n",
    "    return random.choice(mywordlist)\n",
    "\n",
    "def gameon(word):\n",
    "    word_completion =\"_\"*len(word)\n",
    "    guessed = False\n",
    "    guessed_letters=[]\n",
    "    tries = 6    \n",
    "    print(\"Lets play the Hangman\")\n",
    "    print(word_completion)\n",
    "    \n",
    "    while not guessed and tries > 0:\n",
    "        guess = input(\"please enter the letter: \").lower()\n",
    "        \n",
    "        if len(guess)==1 and guess.isalpha():\n",
    "            if guess in guessed_letters:\n",
    "                print(\"already guessed this letter\")\n",
    "            elif guess not in word:\n",
    "                print(\"letter not in the word\")\n",
    "                tries-=1\n",
    "                guessed_letters.append(guess)\n",
    "            else:\n",
    "                print(\"Good Job. This letter is in the word\")\n",
    "                guessed_letters.append(guess)\n",
    "                tries-=1\n",
    "                \n",
    "                word_as_list = list(word_completion)\n",
    "#                 print(word_as_list)\n",
    "                indices= [i for i,letter in enumerate(word) if letter == guess]\n",
    "                \n",
    "                for i in indices:\n",
    "                    word_as_list[i]=guess\n",
    "#                 print(word_as_list)\n",
    "                word_completion = \"\".join(word_as_list)\n",
    "                if word_completion == word:\n",
    "                    guessed=True\n",
    "        else:\n",
    "            print(\"Not a valid input\")\n",
    "        print(word_completion)\n",
    "        print(\"\\n\")\n",
    "        \n",
    "    if guessed:\n",
    "        print(\"Congratulation!! You guessed it all\")\n",
    "    else:\n",
    "        print(\"Sorry you ran out of tries\")\n",
    "    \n",
    "def main():\n",
    "    word=getword()\n",
    "    gameon(word)\n",
    "    \n",
    "if __name__ == \"__main__\":\n",
    "    main()"
   ]
  },
  {
   "cell_type": "code",
   "execution_count": null,
   "metadata": {},
   "outputs": [],
   "source": []
  },
  {
   "cell_type": "code",
   "execution_count": null,
   "metadata": {},
   "outputs": [],
   "source": []
  },
  {
   "cell_type": "code",
   "execution_count": null,
   "metadata": {},
   "outputs": [],
   "source": []
  }
 ],
 "metadata": {
  "kernelspec": {
   "display_name": "Python 3",
   "language": "python",
   "name": "python3"
  },
  "language_info": {
   "codemirror_mode": {
    "name": "ipython",
    "version": 3
   },
   "file_extension": ".py",
   "mimetype": "text/x-python",
   "name": "python",
   "nbconvert_exporter": "python",
   "pygments_lexer": "ipython3",
   "version": "3.7.3"
  }
 },
 "nbformat": 4,
 "nbformat_minor": 2
}
